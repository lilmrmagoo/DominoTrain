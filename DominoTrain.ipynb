{
 "cells": [
  {
   "cell_type": "markdown",
   "id": "d1316acf-caa2-4874-9b14-171dae29e3dd",
   "metadata": {
    "jp-MarkdownHeadingCollapsed": true
   },
   "source": [
    "<h1>Install Dependcies</h1>"
   ]
  },
  {
   "cell_type": "code",
   "execution_count": 1,
   "id": "9a1d00a0-5e6e-4662-93bf-0946f386f08e",
   "metadata": {
    "scrolled": true
   },
   "outputs": [
    {
     "name": "stdout",
     "output_type": "stream",
     "text": [
      "Requirement already satisfied: torch in c:\\users\\lilmr\\appdata\\local\\programs\\python\\python310\\lib\\site-packages (2.1.0)\n",
      "Requirement already satisfied: filelock in c:\\users\\lilmr\\appdata\\local\\programs\\python\\python310\\lib\\site-packages (from torch) (3.12.4)\n",
      "Requirement already satisfied: jinja2 in c:\\users\\lilmr\\appdata\\local\\programs\\python\\python310\\lib\\site-packages (from torch) (3.1.2)\n",
      "Requirement already satisfied: sympy in c:\\users\\lilmr\\appdata\\local\\programs\\python\\python310\\lib\\site-packages (from torch) (1.12)\n",
      "Requirement already satisfied: typing-extensions in c:\\users\\lilmr\\appdata\\local\\programs\\python\\python310\\lib\\site-packages (from torch) (4.8.0)\n",
      "Requirement already satisfied: fsspec in c:\\users\\lilmr\\appdata\\local\\programs\\python\\python310\\lib\\site-packages (from torch) (2023.9.2)\n",
      "Requirement already satisfied: networkx in c:\\users\\lilmr\\appdata\\local\\programs\\python\\python310\\lib\\site-packages (from torch) (3.1)\n",
      "Requirement already satisfied: MarkupSafe>=2.0 in c:\\users\\lilmr\\appdata\\local\\programs\\python\\python310\\lib\\site-packages (from jinja2->torch) (2.1.3)\n",
      "Requirement already satisfied: mpmath>=0.19 in c:\\users\\lilmr\\appdata\\local\\programs\\python\\python310\\lib\\site-packages (from sympy->torch) (1.3.0)\n"
     ]
    },
    {
     "name": "stderr",
     "output_type": "stream",
     "text": [
      "\n",
      "[notice] A new release of pip is available: 23.0 -> 23.2.1\n",
      "[notice] To update, run: python.exe -m pip install --upgrade pip\n"
     ]
    },
    {
     "name": "stdout",
     "output_type": "stream",
     "text": [
      "Requirement already satisfied: numpy in c:\\users\\lilmr\\appdata\\local\\programs\\python\\python310\\lib\\site-packages (1.26.0)\n"
     ]
    },
    {
     "name": "stderr",
     "output_type": "stream",
     "text": [
      "\n",
      "[notice] A new release of pip is available: 23.0 -> 23.2.1\n",
      "[notice] To update, run: python.exe -m pip install --upgrade pip\n"
     ]
    },
    {
     "name": "stdout",
     "output_type": "stream",
     "text": [
      "Requirement already satisfied: gymnasium in c:\\users\\lilmr\\appdata\\local\\programs\\python\\python310\\lib\\site-packages (0.29.1)\n",
      "Requirement already satisfied: cloudpickle>=1.2.0 in c:\\users\\lilmr\\appdata\\local\\programs\\python\\python310\\lib\\site-packages (from gymnasium) (2.2.1)\n",
      "Requirement already satisfied: numpy>=1.21.0 in c:\\users\\lilmr\\appdata\\local\\programs\\python\\python310\\lib\\site-packages (from gymnasium) (1.26.0)\n",
      "Requirement already satisfied: typing-extensions>=4.3.0 in c:\\users\\lilmr\\appdata\\local\\programs\\python\\python310\\lib\\site-packages (from gymnasium) (4.8.0)\n",
      "Requirement already satisfied: farama-notifications>=0.0.1 in c:\\users\\lilmr\\appdata\\local\\programs\\python\\python310\\lib\\site-packages (from gymnasium) (0.0.4)\n"
     ]
    },
    {
     "name": "stderr",
     "output_type": "stream",
     "text": [
      "\n",
      "[notice] A new release of pip is available: 23.0 -> 23.2.1\n",
      "[notice] To update, run: python.exe -m pip install --upgrade pip\n"
     ]
    },
    {
     "name": "stdout",
     "output_type": "stream",
     "text": [
      "Collecting stable_baselines3[extra]\n",
      "  Using cached stable_baselines3-2.1.0-py3-none-any.whl (178 kB)\n",
      "Requirement already satisfied: matplotlib in c:\\users\\lilmr\\appdata\\local\\programs\\python\\python310\\lib\\site-packages (from stable_baselines3[extra]) (3.8.0)\n",
      "Requirement already satisfied: pandas in c:\\users\\lilmr\\appdata\\local\\programs\\python\\python310\\lib\\site-packages (from stable_baselines3[extra]) (2.1.1)\n",
      "Requirement already satisfied: numpy>=1.20 in c:\\users\\lilmr\\appdata\\local\\programs\\python\\python310\\lib\\site-packages (from stable_baselines3[extra]) (1.26.0)\n",
      "Requirement already satisfied: torch>=1.13 in c:\\users\\lilmr\\appdata\\local\\programs\\python\\python310\\lib\\site-packages (from stable_baselines3[extra]) (2.1.0)\n",
      "Requirement already satisfied: cloudpickle in c:\\users\\lilmr\\appdata\\local\\programs\\python\\python310\\lib\\site-packages (from stable_baselines3[extra]) (2.2.1)\n",
      "Requirement already satisfied: gymnasium<0.30,>=0.28.1 in c:\\users\\lilmr\\appdata\\local\\programs\\python\\python310\\lib\\site-packages (from stable_baselines3[extra]) (0.29.1)\n",
      "Requirement already satisfied: pygame in c:\\users\\lilmr\\appdata\\local\\programs\\python\\python310\\lib\\site-packages (from stable_baselines3[extra]) (2.5.2)\n",
      "Requirement already satisfied: autorom[accept-rom-license]~=0.6.1 in c:\\users\\lilmr\\appdata\\local\\programs\\python\\python310\\lib\\site-packages (from stable_baselines3[extra]) (0.6.1)\n",
      "Requirement already satisfied: tqdm in c:\\users\\lilmr\\appdata\\local\\programs\\python\\python310\\lib\\site-packages (from stable_baselines3[extra]) (4.64.1)\n",
      "Requirement already satisfied: opencv-python in c:\\users\\lilmr\\appdata\\local\\programs\\python\\python310\\lib\\site-packages (from stable_baselines3[extra]) (4.8.1.78)\n",
      "Requirement already satisfied: tensorboard>=2.9.1 in c:\\users\\lilmr\\appdata\\local\\programs\\python\\python310\\lib\\site-packages (from stable_baselines3[extra]) (2.14.1)\n",
      "Requirement already satisfied: shimmy[atari]~=1.1.0 in c:\\users\\lilmr\\appdata\\local\\programs\\python\\python310\\lib\\site-packages (from stable_baselines3[extra]) (1.1.0)\n",
      "Requirement already satisfied: pillow in c:\\users\\lilmr\\appdata\\local\\programs\\python\\python310\\lib\\site-packages (from stable_baselines3[extra]) (10.0.1)\n",
      "Requirement already satisfied: psutil in c:\\users\\lilmr\\appdata\\local\\programs\\python\\python310\\lib\\site-packages (from stable_baselines3[extra]) (5.9.5)\n",
      "Requirement already satisfied: rich in c:\\users\\lilmr\\appdata\\local\\programs\\python\\python310\\lib\\site-packages (from stable_baselines3[extra]) (13.6.0)\n",
      "Requirement already satisfied: click in c:\\users\\lilmr\\appdata\\local\\programs\\python\\python310\\lib\\site-packages (from autorom[accept-rom-license]~=0.6.1->stable_baselines3[extra]) (8.1.7)\n",
      "Requirement already satisfied: requests in c:\\users\\lilmr\\appdata\\local\\programs\\python\\python310\\lib\\site-packages (from autorom[accept-rom-license]~=0.6.1->stable_baselines3[extra]) (2.31.0)\n",
      "Requirement already satisfied: AutoROM.accept-rom-license in c:\\users\\lilmr\\appdata\\local\\programs\\python\\python310\\lib\\site-packages (from autorom[accept-rom-license]~=0.6.1->stable_baselines3[extra]) (0.6.1)\n",
      "Requirement already satisfied: typing-extensions>=4.3.0 in c:\\users\\lilmr\\appdata\\local\\programs\\python\\python310\\lib\\site-packages (from gymnasium<0.30,>=0.28.1->stable_baselines3[extra]) (4.8.0)\n",
      "Requirement already satisfied: farama-notifications>=0.0.1 in c:\\users\\lilmr\\appdata\\local\\programs\\python\\python310\\lib\\site-packages (from gymnasium<0.30,>=0.28.1->stable_baselines3[extra]) (0.0.4)\n",
      "Requirement already satisfied: ale-py~=0.8.1 in c:\\users\\lilmr\\appdata\\local\\programs\\python\\python310\\lib\\site-packages (from shimmy[atari]~=1.1.0->stable_baselines3[extra]) (0.8.1)\n",
      "Requirement already satisfied: setuptools>=41.0.0 in c:\\users\\lilmr\\appdata\\local\\programs\\python\\python310\\lib\\site-packages (from tensorboard>=2.9.1->stable_baselines3[extra]) (65.5.0)\n",
      "Requirement already satisfied: markdown>=2.6.8 in c:\\users\\lilmr\\appdata\\local\\programs\\python\\python310\\lib\\site-packages (from tensorboard>=2.9.1->stable_baselines3[extra]) (3.4.4)\n",
      "Requirement already satisfied: tensorboard-data-server<0.8.0,>=0.7.0 in c:\\users\\lilmr\\appdata\\local\\programs\\python\\python310\\lib\\site-packages (from tensorboard>=2.9.1->stable_baselines3[extra]) (0.7.1)\n",
      "Requirement already satisfied: google-auth-oauthlib<1.1,>=0.5 in c:\\users\\lilmr\\appdata\\local\\programs\\python\\python310\\lib\\site-packages (from tensorboard>=2.9.1->stable_baselines3[extra]) (1.0.0)\n",
      "Requirement already satisfied: absl-py>=0.4 in c:\\users\\lilmr\\appdata\\local\\programs\\python\\python310\\lib\\site-packages (from tensorboard>=2.9.1->stable_baselines3[extra]) (2.0.0)\n",
      "Requirement already satisfied: six>1.9 in c:\\users\\lilmr\\appdata\\local\\programs\\python\\python310\\lib\\site-packages (from tensorboard>=2.9.1->stable_baselines3[extra]) (1.16.0)\n",
      "Requirement already satisfied: werkzeug>=1.0.1 in c:\\users\\lilmr\\appdata\\local\\programs\\python\\python310\\lib\\site-packages (from tensorboard>=2.9.1->stable_baselines3[extra]) (3.0.0)\n",
      "Requirement already satisfied: grpcio>=1.48.2 in c:\\users\\lilmr\\appdata\\local\\programs\\python\\python310\\lib\\site-packages (from tensorboard>=2.9.1->stable_baselines3[extra]) (1.59.0)\n",
      "Requirement already satisfied: google-auth<3,>=1.6.3 in c:\\users\\lilmr\\appdata\\local\\programs\\python\\python310\\lib\\site-packages (from tensorboard>=2.9.1->stable_baselines3[extra]) (2.23.2)\n",
      "Requirement already satisfied: protobuf>=3.19.6 in c:\\users\\lilmr\\appdata\\local\\programs\\python\\python310\\lib\\site-packages (from tensorboard>=2.9.1->stable_baselines3[extra]) (4.24.4)\n",
      "Requirement already satisfied: filelock in c:\\users\\lilmr\\appdata\\local\\programs\\python\\python310\\lib\\site-packages (from torch>=1.13->stable_baselines3[extra]) (3.12.4)\n",
      "Requirement already satisfied: fsspec in c:\\users\\lilmr\\appdata\\local\\programs\\python\\python310\\lib\\site-packages (from torch>=1.13->stable_baselines3[extra]) (2023.9.2)\n",
      "Requirement already satisfied: sympy in c:\\users\\lilmr\\appdata\\local\\programs\\python\\python310\\lib\\site-packages (from torch>=1.13->stable_baselines3[extra]) (1.12)\n",
      "Requirement already satisfied: networkx in c:\\users\\lilmr\\appdata\\local\\programs\\python\\python310\\lib\\site-packages (from torch>=1.13->stable_baselines3[extra]) (3.1)\n",
      "Requirement already satisfied: jinja2 in c:\\users\\lilmr\\appdata\\local\\programs\\python\\python310\\lib\\site-packages (from torch>=1.13->stable_baselines3[extra]) (3.1.2)\n",
      "Requirement already satisfied: packaging>=20.0 in c:\\users\\lilmr\\appdata\\local\\programs\\python\\python310\\lib\\site-packages (from matplotlib->stable_baselines3[extra]) (23.0)\n",
      "Requirement already satisfied: fonttools>=4.22.0 in c:\\users\\lilmr\\appdata\\local\\programs\\python\\python310\\lib\\site-packages (from matplotlib->stable_baselines3[extra]) (4.43.1)\n",
      "Requirement already satisfied: kiwisolver>=1.0.1 in c:\\users\\lilmr\\appdata\\local\\programs\\python\\python310\\lib\\site-packages (from matplotlib->stable_baselines3[extra]) (1.4.5)\n",
      "Requirement already satisfied: cycler>=0.10 in c:\\users\\lilmr\\appdata\\local\\programs\\python\\python310\\lib\\site-packages (from matplotlib->stable_baselines3[extra]) (0.12.1)\n",
      "Requirement already satisfied: contourpy>=1.0.1 in c:\\users\\lilmr\\appdata\\local\\programs\\python\\python310\\lib\\site-packages (from matplotlib->stable_baselines3[extra]) (1.1.1)\n",
      "Requirement already satisfied: python-dateutil>=2.7 in c:\\users\\lilmr\\appdata\\local\\programs\\python\\python310\\lib\\site-packages (from matplotlib->stable_baselines3[extra]) (2.8.2)\n",
      "Requirement already satisfied: pyparsing>=2.3.1 in c:\\users\\lilmr\\appdata\\local\\programs\\python\\python310\\lib\\site-packages (from matplotlib->stable_baselines3[extra]) (3.1.1)\n",
      "Requirement already satisfied: pytz>=2020.1 in c:\\users\\lilmr\\appdata\\local\\programs\\python\\python310\\lib\\site-packages (from pandas->stable_baselines3[extra]) (2023.3.post1)\n",
      "Requirement already satisfied: tzdata>=2022.1 in c:\\users\\lilmr\\appdata\\local\\programs\\python\\python310\\lib\\site-packages (from pandas->stable_baselines3[extra]) (2023.3)\n",
      "Requirement already satisfied: markdown-it-py>=2.2.0 in c:\\users\\lilmr\\appdata\\local\\programs\\python\\python310\\lib\\site-packages (from rich->stable_baselines3[extra]) (3.0.0)\n",
      "Requirement already satisfied: pygments<3.0.0,>=2.13.0 in c:\\users\\lilmr\\appdata\\local\\programs\\python\\python310\\lib\\site-packages (from rich->stable_baselines3[extra]) (2.16.1)\n",
      "Requirement already satisfied: colorama in c:\\users\\lilmr\\appdata\\local\\programs\\python\\python310\\lib\\site-packages (from tqdm->stable_baselines3[extra]) (0.4.6)\n",
      "Requirement already satisfied: importlib-resources in c:\\users\\lilmr\\appdata\\local\\programs\\python\\python310\\lib\\site-packages (from ale-py~=0.8.1->shimmy[atari]~=1.1.0->stable_baselines3[extra]) (6.1.0)\n",
      "Requirement already satisfied: cachetools<6.0,>=2.0.0 in c:\\users\\lilmr\\appdata\\local\\programs\\python\\python310\\lib\\site-packages (from google-auth<3,>=1.6.3->tensorboard>=2.9.1->stable_baselines3[extra]) (5.3.1)\n",
      "Requirement already satisfied: pyasn1-modules>=0.2.1 in c:\\users\\lilmr\\appdata\\local\\programs\\python\\python310\\lib\\site-packages (from google-auth<3,>=1.6.3->tensorboard>=2.9.1->stable_baselines3[extra]) (0.3.0)\n",
      "Requirement already satisfied: rsa<5,>=3.1.4 in c:\\users\\lilmr\\appdata\\local\\programs\\python\\python310\\lib\\site-packages (from google-auth<3,>=1.6.3->tensorboard>=2.9.1->stable_baselines3[extra]) (4.9)\n",
      "Requirement already satisfied: requests-oauthlib>=0.7.0 in c:\\users\\lilmr\\appdata\\local\\programs\\python\\python310\\lib\\site-packages (from google-auth-oauthlib<1.1,>=0.5->tensorboard>=2.9.1->stable_baselines3[extra]) (1.3.1)\n",
      "Requirement already satisfied: mdurl~=0.1 in c:\\users\\lilmr\\appdata\\local\\programs\\python\\python310\\lib\\site-packages (from markdown-it-py>=2.2.0->rich->stable_baselines3[extra]) (0.1.2)\n",
      "Requirement already satisfied: charset-normalizer<4,>=2 in c:\\users\\lilmr\\appdata\\local\\programs\\python\\python310\\lib\\site-packages (from requests->autorom[accept-rom-license]~=0.6.1->stable_baselines3[extra]) (3.0.1)\n",
      "Requirement already satisfied: certifi>=2017.4.17 in c:\\users\\lilmr\\appdata\\local\\programs\\python\\python310\\lib\\site-packages (from requests->autorom[accept-rom-license]~=0.6.1->stable_baselines3[extra]) (2022.12.7)\n",
      "Requirement already satisfied: urllib3<3,>=1.21.1 in c:\\users\\lilmr\\appdata\\local\\programs\\python\\python310\\lib\\site-packages (from requests->autorom[accept-rom-license]~=0.6.1->stable_baselines3[extra]) (1.26.14)\n",
      "Requirement already satisfied: idna<4,>=2.5 in c:\\users\\lilmr\\appdata\\local\\programs\\python\\python310\\lib\\site-packages (from requests->autorom[accept-rom-license]~=0.6.1->stable_baselines3[extra]) (3.4)\n",
      "Requirement already satisfied: MarkupSafe>=2.1.1 in c:\\users\\lilmr\\appdata\\local\\programs\\python\\python310\\lib\\site-packages (from werkzeug>=1.0.1->tensorboard>=2.9.1->stable_baselines3[extra]) (2.1.3)\n",
      "Requirement already satisfied: mpmath>=0.19 in c:\\users\\lilmr\\appdata\\local\\programs\\python\\python310\\lib\\site-packages (from sympy->torch>=1.13->stable_baselines3[extra]) (1.3.0)\n",
      "Requirement already satisfied: pyasn1<0.6.0,>=0.4.6 in c:\\users\\lilmr\\appdata\\local\\programs\\python\\python310\\lib\\site-packages (from pyasn1-modules>=0.2.1->google-auth<3,>=1.6.3->tensorboard>=2.9.1->stable_baselines3[extra]) (0.5.0)\n",
      "Requirement already satisfied: oauthlib>=3.0.0 in c:\\users\\lilmr\\appdata\\local\\programs\\python\\python310\\lib\\site-packages (from requests-oauthlib>=0.7.0->google-auth-oauthlib<1.1,>=0.5->tensorboard>=2.9.1->stable_baselines3[extra]) (3.2.2)\n",
      "Installing collected packages: stable_baselines3\n",
      "Successfully installed stable_baselines3-2.1.0\n"
     ]
    },
    {
     "name": "stderr",
     "output_type": "stream",
     "text": [
      "\n",
      "[notice] A new release of pip is available: 23.0 -> 23.2.1\n",
      "[notice] To update, run: python.exe -m pip install --upgrade pip\n"
     ]
    }
   ],
   "source": [
    "!pip install torch\n",
    "!pip install numpy\n",
    "!pip install gymnasium\n",
    "!pip install stable_baselines3[extra]"
   ]
  },
  {
   "cell_type": "markdown",
   "id": "08dd6524-ba81-460c-a988-bee0d8287b1c",
   "metadata": {
    "jp-MarkdownHeadingCollapsed": true
   },
   "source": [
    "<h1>Imports</h1>"
   ]
  },
  {
   "cell_type": "code",
   "execution_count": 2,
   "id": "59b2f177-93ed-4639-8145-f3663d267b76",
   "metadata": {},
   "outputs": [
    {
     "ename": "ModuleNotFoundError",
     "evalue": "No module named 'gym'",
     "output_type": "error",
     "traceback": [
      "\u001b[1;31m---------------------------------------------------------------------------\u001b[0m",
      "\u001b[1;31mModuleNotFoundError\u001b[0m                       Traceback (most recent call last)",
      "Cell \u001b[1;32mIn[2], line 2\u001b[0m\n\u001b[0;32m      1\u001b[0m \u001b[38;5;28;01mimport\u001b[39;00m \u001b[38;5;21;01mgymnasium\u001b[39;00m \u001b[38;5;28;01mas\u001b[39;00m \u001b[38;5;21;01mgym\u001b[39;00m\n\u001b[1;32m----> 2\u001b[0m \u001b[38;5;28;01mfrom\u001b[39;00m \u001b[38;5;21;01mgym\u001b[39;00m \u001b[38;5;28;01mimport\u001b[39;00m Env\n\u001b[0;32m      3\u001b[0m \u001b[38;5;28;01mfrom\u001b[39;00m \u001b[38;5;21;01mgym\u001b[39;00m\u001b[38;5;21;01m.\u001b[39;00m\u001b[38;5;21;01mspaces\u001b[39;00m \u001b[38;5;28;01mimport\u001b[39;00m Discrete,MultiDiscrete, Box\n\u001b[0;32m      4\u001b[0m \u001b[38;5;28;01mimport\u001b[39;00m \u001b[38;5;21;01mnumpy\u001b[39;00m \u001b[38;5;28;01mas\u001b[39;00m \u001b[38;5;21;01mnp\u001b[39;00m\n",
      "\u001b[1;31mModuleNotFoundError\u001b[0m: No module named 'gym'"
     ]
    }
   ],
   "source": [
    "import gymnasium as gym\n",
    "from gym import Env\n",
    "from gym.spaces import Discrete,MultiDiscrete, Box\n",
    "import numpy as np"
   ]
  },
  {
   "cell_type": "markdown",
   "id": "0559ae38-5d01-4ad0-93b4-f644788fc313",
   "metadata": {},
   "source": [
    "<h1>Create Game Classes</h1>"
   ]
  },
  {
   "cell_type": "code",
   "execution_count": 1,
   "id": "dbd84fd4-c327-48c7-b4d3-65aeae0734bd",
   "metadata": {},
   "outputs": [],
   "source": [
    "# %load classes.py\n",
    "import functools\n",
    "import random\n",
    "class Domino():\n",
    "    def __init__(self, s1:int,s2:int):\n",
    "        self.sides = (s1,s2)\n",
    "        self.isDouble = (s1 == s2)\n",
    "    def evalute_side(self, side: int):\n",
    "        if(self.sides[0] == side): return 0\n",
    "        elif (self.sides[1] == side): return 1\n",
    "    def calc_points(self):\n",
    "        return self.sides[0] + self.sides[1]\n",
    "    def __str__(self):\n",
    "        return str(self.sides)\n",
    "\n",
    "\n",
    "class BoneYard():\n",
    "    def __init__(self):\n",
    "        self.dominos = []\n",
    "        self.build()\n",
    "        self.shuffle()\n",
    "    def build(self):\n",
    "        for i in range(0,13):\n",
    "            for j in range(i,13):\n",
    "                self.dominos.append(Domino(i,j))\n",
    "    def shuffle(self):\n",
    "        random.shuffle(self.dominos)\n",
    "    def draw(self):\n",
    "        if len(self.dominos) == 0: return False\n",
    "        return self.dominos.pop()\n",
    "\n",
    "\n",
    "class Train():\n",
    "    startingSide = 12\n",
    "    def __init__(self, id):\n",
    "        self.openSides = [Train.startingSide]\n",
    "        self.trainUp = False\n",
    "        self.id = id\n",
    "    def add(self,placement,domino):\n",
    "        placeIndex = self.openSides.index(placement)\n",
    "        trainSide = self.openSides[placeIndex]\n",
    "        if(trainSide in domino.sides):\n",
    "            if(domino.isDouble):\n",
    "                self.openSides.pop(placeIndex)\n",
    "                self.openSides.append(domino.sides[0])\n",
    "                self.openSides.append(domino.sides[1])\n",
    "            else:\n",
    "                self.openSides.pop(placeIndex)\n",
    "                self.openSides.append(domino.sides[1-domino.evalute_side(trainSide)])\n",
    "        else:\n",
    "            return False\n",
    "    def __str__(self):\n",
    "        return f\"id: {self.id} trainUp?:{self.trainUp} openSides: {self.openSides}\"\n",
    "        \n",
    "\n",
    "class Player():\n",
    "    handSize = 12\n",
    "    nextID = 0 \n",
    "    def __init__(self,boneYard:BoneYard):\n",
    "        self.id = Player.nextID\n",
    "        Player.nextID +=1\n",
    "        self.hand = []\n",
    "        for _ in range(Player.handSize): self.hand.append(boneYard.draw()) \n",
    "    def highestDouble(self):\n",
    "        highest = -1\n",
    "        for domino in self.hand:\n",
    "            if(domino.isDouble and domino.sides[0] > highest): highest = domino.sides[0]\n",
    "        return highest\n",
    "    def intializeTrain(self):\n",
    "        if not hasattr(self,\"train\"):\n",
    "            self.train = Train(self.id)\n",
    "        return self.train\n",
    "    def getDominoFromSides(self,s1:int,s2:int):\n",
    "        for domino in self.hand:\n",
    "            if (domino.sides == (s1,s2) or domino.sides == (s2,s1)):\n",
    "                return domino\n",
    "    def play(self, domino:Domino, placement:int, train:Train|None=None,firstDouble:bool=False):\n",
    "        selfTrain = False\n",
    "        played = False\n",
    "        if train is None: \n",
    "            train = self.train\n",
    "            selfTrain = True\n",
    "        if firstDouble: \n",
    "            self.hand.remove(domino)\n",
    "            played = True\n",
    "        elif train.add(placement, domino) != False:\n",
    "            self.hand.remove(domino)\n",
    "            if selfTrain: self.train.trainUp = False\n",
    "            played = True\n",
    "        if len(self.hand) <= 0: return None\n",
    "        else: return played\n",
    "        \n",
    "\n",
    "    def pointsInHand(self):\n",
    "        return functools.reduce(lambda acc, domino: acc + domino.calc_points(), self.hand, 0)\n",
    "    def pickup(self,boneYard:BoneYard):\n",
    "        domino = boneYard.draw()\n",
    "        if domino is not False:\n",
    "            self.hand.append(domino)\n",
    "        return domino\n",
    "    def __str__(self):\n",
    "        return f\"id:{self.id} train:{self.train.id}\"\n",
    "    \n",
    "\n",
    "\n",
    "\n",
    "class Game():\n",
    "    def __init__(self,numPlayers:int):\n",
    "        self.boneyard = BoneYard()\n",
    "        self.players = []\n",
    "        self.trains = []\n",
    "        self.done = False\n",
    "        self.numPlayers = numPlayers\n",
    "        self.unsastifiedDouble = None\n",
    "        if(numPlayers<= 4): Player.handSize = 15\n",
    "        elif(numPlayers<=6): Player.handSize = 12\n",
    "        elif(numPlayers<=8): Player.handSize = 10\n",
    "        Player.nextID = 0\n",
    "        for _ in range(numPlayers): \n",
    "            self.players.append(Player(self.boneyard))\n",
    "        doubles = [player.highestDouble() for player in self.players]\n",
    "        highestDouble = max(doubles)\n",
    "        firstPlayer = doubles.index(highestDouble)\n",
    "        firstDomino = self.players[firstPlayer].getDominoFromSides(highestDouble,highestDouble)\n",
    "        for player in self.players: \n",
    "            player.intializeTrain()\n",
    "            self.trains.append(player.train)\n",
    "        if (len(self.players)<8): self.mexican = Train(8)\n",
    "        self.centerDouble = max(doubles)\n",
    "        Train.startingSide = self.centerDouble\n",
    "        self.players[firstPlayer].play(firstDomino,0,firstDouble=True) #removing first double\n",
    "        self.startingPlayer = self.nextPlayer(firstPlayer)\n",
    "        self.prevPlayer = None\n",
    "    def getTrain(self,id:int):\n",
    "        if id == 8: return self.mexican\n",
    "        else:\n",
    "            for t in self.trains:\n",
    "                if t.id==id:\n",
    "                    return t\n",
    "            else:\n",
    "                return None\n",
    "    def getPlayer(self,id:int):\n",
    "        if id > 7: return None\n",
    "        else: \n",
    "            for p in self.players:\n",
    "                if p.id==id:\n",
    "                    return p\n",
    "            else:\n",
    "                return None\n",
    "    def nextPlayer(self, currPlayer:int):\n",
    "        next = currPlayer+1 \n",
    "        if (next>=self.numPlayers): next = 0 # looping around if its not an actual player\n",
    "        return next\n",
    "\n",
    "class BoardState():\n",
    "    def __init__(self, trains:list[Train],centerDouble:int, mexican:Train|None = None,unsastifiedDouble=None):\n",
    "        self.mexican = mexican\n",
    "        self.trains = trains\n",
    "        self.unsastifiedDouble = unsastifiedDouble\n",
    "    #train up returns only sides that are on trains with thier trains up\n",
    "    #maybe this signature should be changed to just take a list of trains? and let caller deal with filtering?\n",
    "    def getPlacements(self, trainUp: bool=False,include:list[Train]=[], exclude:list[Train]=[]):\n",
    "        trains = [*self.trains,self.mexican]\n",
    "        placements = []\n",
    "        if trainUp:\n",
    "            for train in trains:\n",
    "                if (train in include or train.trainUp) and train not in exclude:\n",
    "                    for side in train.openSides: \n",
    "                        placements.append((train.id,side))\n",
    "        else:\n",
    "            for train in trains: \n",
    "                if train not in exclude:\n",
    "                    for side in train.openSides: placements.append((train.id,side))\n",
    "        return placements\n",
    "    def getTrain(self, id):\n",
    "        for train in self.trains:\n",
    "            if train.id == id: return train\n",
    "    def availablePlays(self, player:Player,placements:list|None=None):\n",
    "        plays = []\n",
    "        places = []\n",
    "        if self.unsastifiedDouble is not None:\n",
    "            places = [self.unsastifiedDouble]\n",
    "        elif placements is not None:\n",
    "            places = placements\n",
    "        elif player.train.trainUp:\n",
    "            places = [(player.id, side) for side in player.train.openSides]\n",
    "        else: places = self.getPlacements(trainUp=True, include=[player.train])\n",
    "        for placement in places:\n",
    "            for domino in player.hand:\n",
    "                eval = domino.evalute_side(placement[1])\n",
    "                if( eval is not None): plays.append((domino.sides, placement))\n",
    "        return plays\n",
    "    def isValidPlay(self, player:Player, action:list[list]):\n",
    "        valid = False\n",
    "        plays = self.availablePlays(player)\n",
    "        for play in plays:\n",
    "            tuplist = [tuple(list) for list in action]\n",
    "            if tuple(tuplist) == play:\n",
    "                valid = True\n",
    "                print(f\"valid play: {play}\")\n",
    "        return valid\n",
    "    @staticmethod\n",
    "    def fromGame(game:Game):\n",
    "        return BoardState(game.trains,game.centerDouble, game.mexican,game.unsastifiedDouble)\n"
   ]
  },
  {
   "cell_type": "markdown",
   "id": "80cd1272-e9b0-4b30-9652-d34d4515505d",
   "metadata": {
    "jp-MarkdownHeadingCollapsed": true
   },
   "source": [
    "<h2>Test Game Objects</h2>"
   ]
  },
  {
   "cell_type": "markdown",
   "id": "11681fba-811b-4a83-a4a8-dd9fb89222ca",
   "metadata": {},
   "source": [
    "<h3>Testing intialization</h3>"
   ]
  },
  {
   "cell_type": "code",
   "execution_count": 31,
   "id": "b7df7a61-86a3-446a-8ed7-011f44525436",
   "metadata": {},
   "outputs": [
    {
     "name": "stdout",
     "output_type": "stream",
     "text": [
      "['id:0 train:0', 'id:1 train:1', 'id:2 train:2', 'id:3 train:3', 'id:4 train:4', 'id:5 train:5']\n",
      "['(1, 3)', '(3, 10)', '(2, 5)', '(0, 1)', '(0, 6)', '(7, 10)', '(4, 4)', '(9, 11)', '(4, 11)', '(8, 8)', '(10, 12)', '(6, 8)']\n",
      "11\n",
      "[((9, 11), (0, 11)), ((4, 11), (0, 11))]\n"
     ]
    }
   ],
   "source": [
    "game = Game(6)\n",
    "bs = BoardState.fromGame(game)\n",
    "print([str(player) for player in game.players])\n",
    "print([str(domino) for domino in game.players[0].hand])\n",
    "print(Train.startingSide)\n",
    "plays = bs.availablePlays(game.players[0])\n",
    "print(plays)\n"
   ]
  },
  {
   "cell_type": "markdown",
   "id": "19b8f168-0b05-45c2-803f-dd8ba0a25714",
   "metadata": {},
   "source": [
    "<h3>Testing random play</h3>"
   ]
  },
  {
   "cell_type": "code",
   "execution_count": 43,
   "id": "052cf609-5d31-4c88-8720-f9fda5f0b38d",
   "metadata": {},
   "outputs": [
    {
     "name": "stdout",
     "output_type": "stream",
     "text": [
      "id: 0 trainUp?:False openSides: [12]\n",
      "id: 0 trainUp?:False openSides: [4]\n"
     ]
    }
   ],
   "source": [
    "plays = bs.availablePlays(game.players[0])\n",
    "if len(plays)> 0:\n",
    "    play = plays[random.randint(0, len(plays) - 1)] # play = (dominoSideTuple,placementTuple)\n",
    "    player = game.getPlayer(0)\n",
    "    domino = player.getDominoFromSides(*play[0])\n",
    "    train = bs.getTrain(play[1][0]) # play[1] is placement, = (train.id, side)\n",
    "    print(train)\n",
    "    player.play(domino,play[1][1],train)\n",
    "    print(train)\n",
    "else:\n",
    "    print(\"no possible plays\")"
   ]
  },
  {
   "cell_type": "markdown",
   "id": "bf36d572-3d38-4015-84b5-66631a2f2b53",
   "metadata": {},
   "source": [
    "<h1>Start Making Env</h1>"
   ]
  },
  {
   "cell_type": "code",
   "execution_count": 4,
   "id": "1ac1632c-6ba3-4b75-8155-5c09b0ee7b0e",
   "metadata": {},
   "outputs": [],
   "source": [
    "# %load DominoEnv.py\n",
    "import gymnasium as gym\n",
    "from gymnasium import Env\n",
    "from gymnasium.spaces import Dict, Discrete , MultiDiscrete, Box, Sequence, utils\n",
    "import numpy as np\n",
    "class DominoTrainEnv(Env):\n",
    "    def __init__(self,numPlayers:int):\n",
    "        # Actions we can take, 13,13 for possible domino sides, [9,13] for possible domino placements\n",
    "        #action space needed to be changed as it would cause an unknown issue with \n",
    "        #self.action_space = MultiDiscrete(np.array([[13, 13], [9, 13]])) \n",
    "        self.action_space = Box(low=np.array([[0, 0], [0, 0]]), high=np.array([[12, 12], [8, 12]]), dtype=np.int8 )\n",
    "        # observation space\n",
    "        obsv =  {\n",
    "        \"hand\": Box(high=np.array([[13, 13]*79]), dtype=np.int8,low=np.array([[-1, -1]*79])),\n",
    "        \"placements\": Box(high=np.array([[9, 13]*208]), dtype=np.int8,low=np.array([[-1,-1]*208])),\n",
    "        \"trains\": Box(high=np.array([[9, 2]*8]), dtype=np.int8,low=np.array([[-1,-1]*8]))\n",
    "        }\n",
    "        self.observation_space = Dict(obsv)\n",
    "        #setup game\n",
    "        self.game = Game(numPlayers)\n",
    "        self.player = self.game.getPlayer(0)\n",
    "        bs = BoardState.fromGame(self.game)\n",
    "        handarray = [domino.sides for domino in self.player.hand]\n",
    "        placements = bs.getPlacements()\n",
    "        state = self.getState()\n",
    "        self.state = state\n",
    "        self.fails = 0\n",
    "    @staticmethod\n",
    "    def __padArray(array,len:int):\n",
    "        return np.pad(array,((0,len),(0,0)),mode='constant',constant_values=-1)\n",
    "    def getState(self):\n",
    "        bs = BoardState.fromGame(self.game)\n",
    "        handarray = np.array([domino.sides for domino in self.player.hand], dtype=np.int8)\n",
    "        placements = np.array(bs.getPlacements(), dtype=np.int8)\n",
    "        train_info = np.array([[train.id, int(train.trainUp)] for train in bs.trains], dtype=np.int8)\n",
    "        \n",
    "        hand_padding = DominoTrainEnv.__padArray(handarray, 79-len(handarray))\n",
    "        placement_padding = DominoTrainEnv.__padArray(placements, 208-len(placements))\n",
    "        train_padding = DominoTrainEnv.__padArray(train_info, 8-len(train_info))\n",
    "        state =  {\n",
    "            \"hand\": hand_padding.ravel().reshape((1,158)),\n",
    "            \"placements\": placement_padding.ravel().reshape((1,416)),\n",
    "            \"trains\": train_padding.ravel().reshape((1,16))\n",
    "        }\n",
    "        return state\n",
    "    def play(self,domino:Domino, placement,player:Player, bs:BoardState):\n",
    "        print(f\"attempting to play {domino} on {placement} from {player}\")\n",
    "        game = self.game\n",
    "        played = False\n",
    "        if domino is not None:\n",
    "            train = game.getTrain(placement[0])\n",
    "            if player.play(domino,placement[1],train):\n",
    "                played = True   \n",
    "                if domino.isDouble:\n",
    "                    print(\"double played\")\n",
    "                    players = game.players\n",
    "                    start_index = players.index(player)\n",
    "                    #loop through all players at \"table\" starting with person who played double\n",
    "                    for i in range(len(players)):\n",
    "                        index = (start_index + i) % len(players)\n",
    "                        loop_player = players[index] \n",
    "                        newPlacement = (placement[0],domino.sides[0])\n",
    "                        plays = bs.availablePlays(loop_player, placements=[placement])\n",
    "                        print(f\"checking if {loop_player} can play on {newPlacement}\\n, plays {plays}\")\n",
    "                        #if player can't play on double\n",
    "                        if len(plays)<=0:\n",
    "                            pickupDomino = loop_player.pickup(self.game.boneyard)\n",
    "                            #if a domino was actually picked up\n",
    "                            if pickupDomino:\n",
    "                                print(f\"{loop_player} pickedup {pickupDomino}\")\n",
    "                                plays = bs.availablePlays(loop_player, placements=[newPlacement])\n",
    "                                if len(plays)<=0: \n",
    "                                    print(\"player can't play pickup\")\n",
    "                                    loop_player.train.trainUp = True\n",
    "                                    continue\n",
    "                                #if possible to play pickup\n",
    "                                else:\n",
    "                                    print(f\"attepmting to play pickup on {newPlacement}, train {train}\")\n",
    "                                    if loop_player.play(pickupDomino,newPlacement[1],train) is None:\n",
    "                                        game.done = True\n",
    "                                    break\n",
    "                                    \n",
    "                            # no domino was pickedup, meaning boneyard is empty and end of game\n",
    "                            else:\n",
    "                                game.done = True\n",
    "                                break\n",
    "                        #if player only has one choice to play\n",
    "                        elif len(plays) == 1:\n",
    "                            play = plays[0]\n",
    "                            ranDomino = loop_player.getDominoFromSides(*play[0])\n",
    "                            print(f\"attempting to play {ranDomino} on {newPlacement}, player.train: {player.train}\")\n",
    "                            if loop_player.play(ranDomino,newPlacement[1],train) is None:\n",
    "                                game.done = True\n",
    "                            break\n",
    "                        #if player has many choices to play\n",
    "                        else:\n",
    "                            #if ai player\n",
    "                            if loop_player.id == 0:\n",
    "                                print(f\"letting ai make choice for double play\")\n",
    "                                self.game.unsastifiedDouble = (train.id,domino.sides[0])\n",
    "                                self.game.prevPlayer = player.id\n",
    "                                break\n",
    "                            #if other players, random choice\n",
    "                            else:\n",
    "                                print(player.train)\n",
    "                                play = plays[random.randint(0, len(plays) - 1)]\n",
    "                                ranDomino = loop_player.getDominoFromSides(*play[0])\n",
    "                                print(f\"attempting to play {ranDomino} on {newPlacement}, player.train: {player.train}\\n available plays: {plays}\")\n",
    "                                if loop_player.play(ranDomino,newPlacement[1],train) is None:\n",
    "                                    game.done = True\n",
    "                            break\n",
    "            else:\n",
    "                   print(\"Invalid Placement\")\n",
    "        else:\n",
    "            print(\"Invlaid Domino\")\n",
    "        return played\n",
    "    def maskAction(self,availablActions):\n",
    "        pass\n",
    "    def step(self, action):\n",
    "        start_index = self.game.startingPlayer\n",
    "        players = self.game.players\n",
    "        length = len(players)\n",
    "        stateChanged = False\n",
    "        reward = 0\n",
    "        bs= BoardState.fromGame(self.game)\n",
    "        if bs.isValidPlay(self.player,action):\n",
    "            if bs.unsastifiedDouble is not None:\n",
    "                domino = action[0]\n",
    "                domino = self.player.getDominoFromSides(*domino)\n",
    "                self.play(domino,action[1],self.player,bs)\n",
    "                reward += domino.calc_points()\n",
    "                stateChanged = True\n",
    "                start_index = self.game.nextPlayer(self.player.id)\n",
    "                length = length - 1\n",
    "                bs.unsastifiedDouble = None #probably a better way of doing this\n",
    "                self.game.unsastifiedDouble = None\n",
    "            if stateChanged or bs.unsastifiedDouble is None:    \n",
    "                for i in range(length):\n",
    "                    index = (start_index + i) % length\n",
    "                    player = players[index]\n",
    "                    posActions = bs.availablePlays(player)\n",
    "                    #if current turn is ai\n",
    "                    if player.id == 0:\n",
    "                        #if no action available\n",
    "                        if len(posActions)<=0:\n",
    "                            self.player.pickup(self.game.boneyard)\n",
    "                            posActions = bs.availablePlays(self.player)\n",
    "                            if len(posActions)>0:\n",
    "                                ranAction = posActions[0]\n",
    "                                ranDomino = self.player.getDominoFromSides(*ranAction[0])\n",
    "                                self.play(ranDomino,ranAction[1],self.player,bs)\n",
    "                                stateChanged = True\n",
    "                            # Check if action is valid\n",
    "                        else:\n",
    "                            # Apply action\n",
    "                            domino = action[0]\n",
    "                            domino = self.player.getDominoFromSides(*domino)\n",
    "                            self.play(domino,action[1],self.player,bs)\n",
    "                            reward += domino.calc_points() + 60\n",
    "                            stateChanged = True\n",
    "                        #invalid action   \n",
    "                        \n",
    "                    else:\n",
    "                        print(f\"current turn: {player}, plays: {posActions}\")\n",
    "                        if len(posActions)<=0:\n",
    "                            player.pickup(self.game.boneyard)\n",
    "                            posActions = bs.availablePlays(player)\n",
    "                        if len(posActions)>0:\n",
    "                            ranIndex = 0\n",
    "                            if len(posActions)>1: ranIndex = random.randint(0, len(posActions)-1)\n",
    "                            ranAction = posActions[ranIndex]\n",
    "                            ranDomino = player.getDominoFromSides(*ranAction[0])\n",
    "                            self.play(ranDomino,ranAction[1],player,bs)\n",
    "                            stateChanged = True\n",
    "        else: \n",
    "            reward += -50\n",
    "            self.fails +=1\n",
    "        if stateChanged:    \n",
    "            self.state = self.getState()\n",
    "        \n",
    "        done = self.game.done\n",
    "        #hard limit on game length since, the ai can make invalid plays which could loop forever\n",
    "        if self.fails >=10: done = True\n",
    "        elif done:\n",
    "            # add negative reward for points remaining in hand at game end\n",
    "            reward += -1*self.player.pointsInHand()  \n",
    "        \n",
    "        # Set placeholder for info\n",
    "        info = {}\n",
    "        \n",
    "        # Return step information\n",
    "        return self.state, reward, done,False, info\n",
    "\n",
    "    def render(self):\n",
    "        # Implement viz\n",
    "        pass\n",
    "    \n",
    "    def reset(self, seed=None):\n",
    "        self.game = Game(self.game.numPlayers)\n",
    "        self.player = self.game.getPlayer(0)\n",
    "        self.state = self.getState()\n",
    "        self.fails = 0\n",
    "        return self.state, {}\n",
    "    "
   ]
  },
  {
   "cell_type": "markdown",
   "id": "da5941f2-dfea-4a34-a7ef-046fdac07804",
   "metadata": {},
   "source": [
    "<h2>Test ENV</h2>"
   ]
  },
  {
   "cell_type": "markdown",
   "id": "cbdae9a7-11d8-40db-93d9-f20d5f011390",
   "metadata": {
    "jp-MarkdownHeadingCollapsed": true
   },
   "source": [
    "<h3>Random Sample Test</h3>"
   ]
  },
  {
   "cell_type": "code",
   "execution_count": 14,
   "id": "fd71542f-3e49-4e15-8515-6ea2369d6e0a",
   "metadata": {},
   "outputs": [],
   "source": [
    "env = DominoTrainEnv(6)"
   ]
  },
  {
   "cell_type": "code",
   "execution_count": 15,
   "id": "4c9d045a-4d17-4a76-b554-0e71a166be46",
   "metadata": {
    "scrolled": true
   },
   "outputs": [
    {
     "name": "stdout",
     "output_type": "stream",
     "text": [
      "Episode:1 Score:-596\n",
      "10\n",
      "Episode:2 Score:-663\n",
      "10\n",
      "Episode:3 Score:-654\n",
      "10\n",
      "valid play: ((1, 11), (0, 11))\n",
      "attempting to play (1, 11) on [ 0 11] from id:0 train:0\n",
      "current turn: id:1 train:1, plays: [((5, 11), (1, 11))]\n",
      "attempting to play (5, 11) on (1, 11) from id:1 train:1\n",
      "current turn: id:2 train:2, plays: []\n",
      "current turn: id:3 train:3, plays: [((9, 11), (3, 11)), ((6, 11), (3, 11))]\n",
      "attempting to play (9, 11) on (3, 11) from id:3 train:3\n",
      "current turn: id:4 train:4, plays: [((0, 11), (4, 11)), ((3, 11), (4, 11))]\n",
      "attempting to play (3, 11) on (4, 11) from id:4 train:4\n",
      "current turn: id:5 train:5, plays: [((8, 11), (5, 11))]\n",
      "attempting to play (8, 11) on (5, 11) from id:5 train:5\n",
      "Episode:4 Score:-345\n",
      "11\n",
      "Episode:5 Score:-589\n",
      "10\n",
      "Episode:6 Score:-620\n",
      "10\n",
      "Episode:7 Score:-649\n",
      "10\n",
      "Episode:8 Score:-668\n",
      "10\n",
      "Episode:9 Score:-661\n",
      "10\n",
      "Episode:10 Score:-669\n",
      "10\n"
     ]
    }
   ],
   "source": [
    "episodes = 10\n",
    "for episode in range(1, episodes+1):\n",
    "    state = env.reset()\n",
    "    done = False\n",
    "    score = 0 \n",
    "    step = 0\n",
    "    while not done:\n",
    "        #env.render()\n",
    "        #print(step)\n",
    "        step+=1\n",
    "        action = env.action_space.sample()\n",
    "        n_state, reward, done, truncated, info = env.step(action)\n",
    "        score+=reward\n",
    "    print('Episode:{} Score:{}'.format(episode, score))\n",
    "    print(step)"
   ]
  },
  {
   "cell_type": "markdown",
   "id": "b554e263-adb8-411f-9be4-33e3e8712773",
   "metadata": {
    "jp-MarkdownHeadingCollapsed": true
   },
   "source": [
    "<h3>Env checker</h3>"
   ]
  },
  {
   "cell_type": "code",
   "execution_count": 14,
   "id": "125b2bda-c765-48ed-8de4-89221a6741fc",
   "metadata": {},
   "outputs": [
    {
     "name": "stdout",
     "output_type": "stream",
     "text": [
      "None\n",
      "Dict('hand': Box(-1, 13, (1, 158), int8), 'placements': Box(-1, [[ 9 13  9 13  9 13  9 13  9 13  9 13  9 13  9 13  9 13  9 13  9 13  9 13\n",
      "   9 13  9 13  9 13  9 13  9 13  9 13  9 13  9 13  9 13  9 13  9 13  9 13\n",
      "   9 13  9 13  9 13  9 13  9 13  9 13  9 13  9 13  9 13  9 13  9 13  9 13\n",
      "   9 13  9 13  9 13  9 13  9 13  9 13  9 13  9 13  9 13  9 13  9 13  9 13\n",
      "   9 13  9 13  9 13  9 13  9 13  9 13  9 13  9 13  9 13  9 13  9 13  9 13\n",
      "   9 13  9 13  9 13  9 13  9 13  9 13  9 13  9 13  9 13  9 13  9 13  9 13\n",
      "   9 13  9 13  9 13  9 13  9 13  9 13  9 13  9 13  9 13  9 13  9 13  9 13\n",
      "   9 13  9 13  9 13  9 13  9 13  9 13  9 13  9 13  9 13  9 13  9 13  9 13\n",
      "   9 13  9 13  9 13  9 13  9 13  9 13  9 13  9 13  9 13  9 13  9 13  9 13\n",
      "   9 13  9 13  9 13  9 13  9 13  9 13  9 13  9 13  9 13  9 13  9 13  9 13\n",
      "   9 13  9 13  9 13  9 13  9 13  9 13  9 13  9 13  9 13  9 13  9 13  9 13\n",
      "   9 13  9 13  9 13  9 13  9 13  9 13  9 13  9 13  9 13  9 13  9 13  9 13\n",
      "   9 13  9 13  9 13  9 13  9 13  9 13  9 13  9 13  9 13  9 13  9 13  9 13\n",
      "   9 13  9 13  9 13  9 13  9 13  9 13  9 13  9 13  9 13  9 13  9 13  9 13\n",
      "   9 13  9 13  9 13  9 13  9 13  9 13  9 13  9 13  9 13  9 13  9 13  9 13\n",
      "   9 13  9 13  9 13  9 13  9 13  9 13  9 13  9 13  9 13  9 13  9 13  9 13\n",
      "   9 13  9 13  9 13  9 13  9 13  9 13  9 13  9 13  9 13  9 13  9 13  9 13\n",
      "   9 13  9 13  9 13  9 13]], (1, 416), int8), 'trains': Box(-1, [[9 2 9 2 9 2 9 2 9 2 9 2 9 2 9 2]], (1, 16), int8))\n",
      "<class 'gymnasium.spaces.space.Space'>\n",
      "True\n"
     ]
    }
   ],
   "source": [
    "import gymnasium as gym\n",
    "from stable_baselines3.common.env_checker import check_env\n",
    "env = DominoTrainEnv(6)\n",
    "#print(gym.spaces.flatdim(env.observation_space))\n",
    "print(env.observation_space.shape)\n",
    "print(env.observation_space)\n",
    "print(type(env.observation_space).__base__)\n",
    "print(isinstance(env.observation_space, gym.spaces.Space))\n",
    "check_env(env,skip_render_check=True)"
   ]
  },
  {
   "cell_type": "markdown",
   "id": "84ddf048-2764-4971-aae3-b820d3e3a993",
   "metadata": {},
   "source": [
    "<h1>Make RL Model</h1>"
   ]
  },
  {
   "cell_type": "markdown",
   "id": "88ff3bed-8512-476a-9ed3-13d3b7cbb592",
   "metadata": {},
   "source": [
    "<h2>Intial Attempt</h2>"
   ]
  },
  {
   "cell_type": "code",
   "execution_count": 3,
   "id": "82669a39-f838-452f-a1df-0550262ff77a",
   "metadata": {},
   "outputs": [],
   "source": [
    "import numpy as np\n",
    "from stable_baselines3 import A2C\n",
    "from stable_baselines3 import PPO\n",
    "from stable_baselines3.common.env_checker import check_env\n",
    "from stable_baselines3.common.evaluation import evaluate_policy"
   ]
  },
  {
   "cell_type": "code",
   "execution_count": 5,
   "id": "96e1d67b-a04a-4d12-9ce8-56c9f7492fdd",
   "metadata": {},
   "outputs": [
    {
     "data": {
      "text/html": [
       "<pre style=\"white-space:pre;overflow-x:auto;line-height:normal;font-family:Menlo,'DejaVu Sans Mono',consolas,'Courier New',monospace\"><span style=\"color: #800080; text-decoration-color: #800080\"> 100%</span> <span style=\"color: #729c1f; text-decoration-color: #729c1f\">━━━━━━━━━━━━━━━━━━━━━━━━━━━━━━━━━━━━━━━━━━━━━━━━━━━━━━━━━━━</span> <span style=\"color: #008000; text-decoration-color: #008000\">501,698/500,000 </span> [ <span style=\"color: #808000; text-decoration-color: #808000\">0:19:57</span> &lt; <span style=\"color: #008080; text-decoration-color: #008080\">0:00:00</span> , <span style=\"color: #800000; text-decoration-color: #800000\">433 it/s</span> ]\n",
       "</pre>\n"
      ],
      "text/plain": [
       "\u001b[35m 100%\u001b[0m \u001b[38;2;114;156;31m━━━━━━━━━━━━━━━━━━━━━━━━━━━━━━━━━━━━━━━━━━━━━━━━━━━━━━━━━━━\u001b[0m \u001b[32m501,698/500,000 \u001b[0m [ \u001b[33m0:19:57\u001b[0m < \u001b[36m0:00:00\u001b[0m , \u001b[31m433 it/s\u001b[0m ]\n"
      ]
     },
     "metadata": {},
     "output_type": "display_data"
    },
    {
     "data": {
      "text/html": [
       "<pre style=\"white-space:pre;overflow-x:auto;line-height:normal;font-family:Menlo,'DejaVu Sans Mono',consolas,'Courier New',monospace\"></pre>\n"
      ],
      "text/plain": []
     },
     "metadata": {},
     "output_type": "display_data"
    },
    {
     "data": {
      "text/html": [
       "<pre style=\"white-space:pre;overflow-x:auto;line-height:normal;font-family:Menlo,'DejaVu Sans Mono',consolas,'Courier New',monospace\">\n",
       "</pre>\n"
      ],
      "text/plain": [
       "\n"
      ]
     },
     "metadata": {},
     "output_type": "display_data"
    },
    {
     "name": "stdout",
     "output_type": "stream",
     "text": [
      "Wrapping the env with a `Monitor` wrapper\n",
      "Wrapping the env in a DummyVecEnv.\n",
      "-500.0 0.0\n"
     ]
    }
   ],
   "source": [
    "env = DominoTrainEnv(6)\n",
    "\n",
    "# Initialize the PPO agent\n",
    "#model = PPO(\"MultiInputPolicy\", env,verbose=1)\n",
    "\n",
    "# Train the agent\n",
    "\n",
    "# Save the trained model\n",
    "\n",
    "# Load the trained agent\n",
    "# NOTE: if you have loading issue, you can pass `print_system_info=True`\n",
    "# to compare the system on which the model was trained vs the current one\n",
    "# model = DQN.load(\"dqn_lunar\", env=env, print_system_info=True)\n",
    "model = PPO.load(\"PPO_DominoTrain\", env=env,verbose=1)\n",
    "model.learn(total_timesteps=int(5e5), progress_bar=True)\n",
    "model.save(\"PPO_DominoTrain\")\n",
    "model = PPO.load(\"PPO_DominoTrain\", env=env)\n",
    "\n",
    "# Evaluate the agent\n",
    "# NOTE: If you use wrappers with your environment that modify rewards,\n",
    "#       this will be reflected here. To evaluate with original rewards,\n",
    "#       wrap environment in a \"Monitor\" wrapper before other wrappers.\n",
    "mean_reward, std_reward = evaluate_policy(model, model.get_env(), n_eval_episodes=10)\n",
    "print(mean_reward, std_reward)\n",
    "# Load the saved model\n",
    "#model = PPO.load(\"PPO_DominoTrain\")"
   ]
  },
  {
   "cell_type": "markdown",
   "id": "f16a3aee-fd40-499d-b86a-7cc12e6e2290",
   "metadata": {
    "jp-MarkdownHeadingCollapsed": true
   },
   "source": [
    "<h2>debugging minimal reproducable</h2>"
   ]
  },
  {
   "cell_type": "code",
   "execution_count": 18,
   "id": "8e68a6f0-4df1-4261-9648-44a42ca087c0",
   "metadata": {},
   "outputs": [
    {
     "name": "stdout",
     "output_type": "stream",
     "text": [
      "None\n"
     ]
    },
    {
     "name": "stderr",
     "output_type": "stream",
     "text": [
      "C:\\Users\\lilmr\\AppData\\Roaming\\Python\\Python311\\site-packages\\stable_baselines3\\common\\env_checker.py:439: UserWarning: Your action space has dtype int8, we recommend using np.float32 to avoid cast errors.\n",
      "  warnings.warn(\n"
     ]
    }
   ],
   "source": [
    "import gymnasium as gym\n",
    "from gymnasium import Env\n",
    "from gymnasium.spaces import Discrete, MultiDiscrete, Box, Dict\n",
    "import numpy as np\n",
    "from stable_baselines3 import PPO\n",
    "from stable_baselines3.common.env_checker import check_env\n",
    "\n",
    "class TestEnv(Env):\n",
    "    def __init__(self,numPlayers:int):\n",
    "        # Actions we can take, 13,13 for possible domino sides, [9,13] for possible domino placements\n",
    "        #self.action_space = MultiDiscrete(np.array([[13, 13], [9, 13]]))\n",
    "        self.action_space = Box(low=np.array([[0, 0], [0, 0]]), high=np.array([[12, 12], [8, 12]]), dtype=np.int8 )\n",
    "        # observation space\n",
    "        obsv =  {\n",
    "        \"hand\": Box(high=np.array([[13, 13]*79]), dtype=np.int8,low=np.array([[-1, -1]*79]))\n",
    "        }\n",
    "        self.observation_space = Dict(obsv)\n",
    "        #self.observation_space = Box(high=np.array([[13, 13]*79]).ravel().reshape((1,158)), dtype=np.int8,low=np.array([[-1, -1]*79]).ravel().reshape((1,158)))\n",
    "        self.state = self.getState()\n",
    "    @staticmethod\n",
    "    def __padArray(array,len:int):\n",
    "        return np.pad(array,((0,len),(0,0)),mode='constant',constant_values=-1)\n",
    "    def getState(self):\n",
    "        #array values are placeholders\n",
    "        handarray = np.array([(11,11),(12,11)], dtype=np.int8)\n",
    "        \n",
    "        hand_padding = TestEnv.__padArray(handarray, 79-len(handarray))\n",
    "        state =  {\n",
    "            \"hand\": hand_padding.ravel().reshape((1,158)),\n",
    "        }\n",
    "        #state = state[\"hand\"]\n",
    "        return state\n",
    "    def step(self, action):\n",
    "        self.state = self.getState()\n",
    "        # Return step information\n",
    "        reward = 1\n",
    "        done = False\n",
    "        info = {}\n",
    "        return self.state, reward, done,False, info\n",
    "\n",
    "    def render(self):\n",
    "        # Implement viz\n",
    "        pass\n",
    "    \n",
    "    def reset(self, seed=None):\n",
    "        self.state = self.getState()\n",
    "        return self.state, {}\n",
    "\n",
    "env = TestEnv(6)\n",
    "print(check_env(env,skip_render_check=True))\n",
    "model = PPO(\"MultiInputPolicy\", env)"
   ]
  },
  {
   "cell_type": "code",
   "execution_count": null,
   "id": "0d8cfe46-8c68-4975-b9ac-1db263abdad0",
   "metadata": {},
   "outputs": [],
   "source": []
  },
  {
   "cell_type": "code",
   "execution_count": null,
   "id": "8586cebf-6c74-4f91-95fb-b3d3d7dc8377",
   "metadata": {},
   "outputs": [],
   "source": []
  }
 ],
 "metadata": {
  "kernelspec": {
   "display_name": "Python 3 (ipykernel)",
   "language": "python",
   "name": "python3"
  },
  "language_info": {
   "codemirror_mode": {
    "name": "ipython",
    "version": 3
   },
   "file_extension": ".py",
   "mimetype": "text/x-python",
   "name": "python",
   "nbconvert_exporter": "python",
   "pygments_lexer": "ipython3",
   "version": "3.10.10"
  }
 },
 "nbformat": 4,
 "nbformat_minor": 5
}
